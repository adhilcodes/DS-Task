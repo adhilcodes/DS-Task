{
  "cells": [
    {
      "cell_type": "code",
      "source": [
        "from google.colab import drive\n",
        "drive.mount('/content/drive')"
      ],
      "metadata": {
        "colab": {
          "base_uri": "https://localhost:8080/"
        },
        "id": "6poqeupSnQE-",
        "outputId": "889c6c7c-7998-413e-8766-8e234bd69973"
      },
      "execution_count": null,
      "outputs": [
        {
          "output_type": "stream",
          "name": "stdout",
          "text": [
            "Mounted at /content/drive\n"
          ]
        }
      ]
    },
    {
      "cell_type": "code",
      "execution_count": null,
      "metadata": {
        "_cell_guid": "b1076dfc-b9ad-4769-8c92-a6c4dae69d19",
        "_uuid": "8f2839f25d086af736a60e9eeb907d3b93b6e0e5",
        "execution": {
          "iopub.execute_input": "2022-07-19T04:30:39.674895Z",
          "iopub.status.busy": "2022-07-19T04:30:39.674202Z",
          "iopub.status.idle": "2022-07-19T04:30:39.688786Z",
          "shell.execute_reply": "2022-07-19T04:30:39.687733Z",
          "shell.execute_reply.started": "2022-07-19T04:30:39.674847Z"
        },
        "id": "EqDzLYYzmXh1"
      },
      "outputs": [],
      "source": [
        "import numpy as np \n",
        "import pandas as pd "
      ]
    },
    {
      "cell_type": "code",
      "execution_count": null,
      "metadata": {
        "execution": {
          "iopub.execute_input": "2022-07-19T04:30:40.177243Z",
          "iopub.status.busy": "2022-07-19T04:30:40.176905Z",
          "iopub.status.idle": "2022-07-19T04:30:42.476353Z",
          "shell.execute_reply": "2022-07-19T04:30:42.475311Z",
          "shell.execute_reply.started": "2022-07-19T04:30:40.177215Z"
        },
        "colab": {
          "base_uri": "https://localhost:8080/",
          "height": 206
        },
        "id": "5_cWs7_tmXh5",
        "outputId": "bc9bcb29-c75a-435b-cac7-7a45984616be"
      },
      "outputs": [
        {
          "output_type": "execute_result",
          "data": {
            "text/plain": [
              "                                               title  \\\n",
              "0   Donald Trump Sends Out Embarrassing New Year’...   \n",
              "1   Drunk Bragging Trump Staffer Started Russian ...   \n",
              "2   Sheriff David Clarke Becomes An Internet Joke...   \n",
              "3   Trump Is So Obsessed He Even Has Obama’s Name...   \n",
              "4   Pope Francis Just Called Out Donald Trump Dur...   \n",
              "\n",
              "                                                text subject  \\\n",
              "0  Donald Trump just couldn t wish all Americans ...    News   \n",
              "1  House Intelligence Committee Chairman Devin Nu...    News   \n",
              "2  On Friday, it was revealed that former Milwauk...    News   \n",
              "3  On Christmas day, Donald Trump announced that ...    News   \n",
              "4  Pope Francis used his annual Christmas Day mes...    News   \n",
              "\n",
              "                date  \n",
              "0  December 31, 2017  \n",
              "1  December 31, 2017  \n",
              "2  December 30, 2017  \n",
              "3  December 29, 2017  \n",
              "4  December 25, 2017  "
            ],
            "text/html": [
              "\n",
              "  <div id=\"df-70b5446b-f3a2-4b8a-b7c5-490eadf30a9a\">\n",
              "    <div class=\"colab-df-container\">\n",
              "      <div>\n",
              "<style scoped>\n",
              "    .dataframe tbody tr th:only-of-type {\n",
              "        vertical-align: middle;\n",
              "    }\n",
              "\n",
              "    .dataframe tbody tr th {\n",
              "        vertical-align: top;\n",
              "    }\n",
              "\n",
              "    .dataframe thead th {\n",
              "        text-align: right;\n",
              "    }\n",
              "</style>\n",
              "<table border=\"1\" class=\"dataframe\">\n",
              "  <thead>\n",
              "    <tr style=\"text-align: right;\">\n",
              "      <th></th>\n",
              "      <th>title</th>\n",
              "      <th>text</th>\n",
              "      <th>subject</th>\n",
              "      <th>date</th>\n",
              "    </tr>\n",
              "  </thead>\n",
              "  <tbody>\n",
              "    <tr>\n",
              "      <th>0</th>\n",
              "      <td>Donald Trump Sends Out Embarrassing New Year’...</td>\n",
              "      <td>Donald Trump just couldn t wish all Americans ...</td>\n",
              "      <td>News</td>\n",
              "      <td>December 31, 2017</td>\n",
              "    </tr>\n",
              "    <tr>\n",
              "      <th>1</th>\n",
              "      <td>Drunk Bragging Trump Staffer Started Russian ...</td>\n",
              "      <td>House Intelligence Committee Chairman Devin Nu...</td>\n",
              "      <td>News</td>\n",
              "      <td>December 31, 2017</td>\n",
              "    </tr>\n",
              "    <tr>\n",
              "      <th>2</th>\n",
              "      <td>Sheriff David Clarke Becomes An Internet Joke...</td>\n",
              "      <td>On Friday, it was revealed that former Milwauk...</td>\n",
              "      <td>News</td>\n",
              "      <td>December 30, 2017</td>\n",
              "    </tr>\n",
              "    <tr>\n",
              "      <th>3</th>\n",
              "      <td>Trump Is So Obsessed He Even Has Obama’s Name...</td>\n",
              "      <td>On Christmas day, Donald Trump announced that ...</td>\n",
              "      <td>News</td>\n",
              "      <td>December 29, 2017</td>\n",
              "    </tr>\n",
              "    <tr>\n",
              "      <th>4</th>\n",
              "      <td>Pope Francis Just Called Out Donald Trump Dur...</td>\n",
              "      <td>Pope Francis used his annual Christmas Day mes...</td>\n",
              "      <td>News</td>\n",
              "      <td>December 25, 2017</td>\n",
              "    </tr>\n",
              "  </tbody>\n",
              "</table>\n",
              "</div>\n",
              "      <button class=\"colab-df-convert\" onclick=\"convertToInteractive('df-70b5446b-f3a2-4b8a-b7c5-490eadf30a9a')\"\n",
              "              title=\"Convert this dataframe to an interactive table.\"\n",
              "              style=\"display:none;\">\n",
              "        \n",
              "  <svg xmlns=\"http://www.w3.org/2000/svg\" height=\"24px\"viewBox=\"0 0 24 24\"\n",
              "       width=\"24px\">\n",
              "    <path d=\"M0 0h24v24H0V0z\" fill=\"none\"/>\n",
              "    <path d=\"M18.56 5.44l.94 2.06.94-2.06 2.06-.94-2.06-.94-.94-2.06-.94 2.06-2.06.94zm-11 1L8.5 8.5l.94-2.06 2.06-.94-2.06-.94L8.5 2.5l-.94 2.06-2.06.94zm10 10l.94 2.06.94-2.06 2.06-.94-2.06-.94-.94-2.06-.94 2.06-2.06.94z\"/><path d=\"M17.41 7.96l-1.37-1.37c-.4-.4-.92-.59-1.43-.59-.52 0-1.04.2-1.43.59L10.3 9.45l-7.72 7.72c-.78.78-.78 2.05 0 2.83L4 21.41c.39.39.9.59 1.41.59.51 0 1.02-.2 1.41-.59l7.78-7.78 2.81-2.81c.8-.78.8-2.07 0-2.86zM5.41 20L4 18.59l7.72-7.72 1.47 1.35L5.41 20z\"/>\n",
              "  </svg>\n",
              "      </button>\n",
              "      \n",
              "  <style>\n",
              "    .colab-df-container {\n",
              "      display:flex;\n",
              "      flex-wrap:wrap;\n",
              "      gap: 12px;\n",
              "    }\n",
              "\n",
              "    .colab-df-convert {\n",
              "      background-color: #E8F0FE;\n",
              "      border: none;\n",
              "      border-radius: 50%;\n",
              "      cursor: pointer;\n",
              "      display: none;\n",
              "      fill: #1967D2;\n",
              "      height: 32px;\n",
              "      padding: 0 0 0 0;\n",
              "      width: 32px;\n",
              "    }\n",
              "\n",
              "    .colab-df-convert:hover {\n",
              "      background-color: #E2EBFA;\n",
              "      box-shadow: 0px 1px 2px rgba(60, 64, 67, 0.3), 0px 1px 3px 1px rgba(60, 64, 67, 0.15);\n",
              "      fill: #174EA6;\n",
              "    }\n",
              "\n",
              "    [theme=dark] .colab-df-convert {\n",
              "      background-color: #3B4455;\n",
              "      fill: #D2E3FC;\n",
              "    }\n",
              "\n",
              "    [theme=dark] .colab-df-convert:hover {\n",
              "      background-color: #434B5C;\n",
              "      box-shadow: 0px 1px 3px 1px rgba(0, 0, 0, 0.15);\n",
              "      filter: drop-shadow(0px 1px 2px rgba(0, 0, 0, 0.3));\n",
              "      fill: #FFFFFF;\n",
              "    }\n",
              "  </style>\n",
              "\n",
              "      <script>\n",
              "        const buttonEl =\n",
              "          document.querySelector('#df-70b5446b-f3a2-4b8a-b7c5-490eadf30a9a button.colab-df-convert');\n",
              "        buttonEl.style.display =\n",
              "          google.colab.kernel.accessAllowed ? 'block' : 'none';\n",
              "\n",
              "        async function convertToInteractive(key) {\n",
              "          const element = document.querySelector('#df-70b5446b-f3a2-4b8a-b7c5-490eadf30a9a');\n",
              "          const dataTable =\n",
              "            await google.colab.kernel.invokeFunction('convertToInteractive',\n",
              "                                                     [key], {});\n",
              "          if (!dataTable) return;\n",
              "\n",
              "          const docLinkHtml = 'Like what you see? Visit the ' +\n",
              "            '<a target=\"_blank\" href=https://colab.research.google.com/notebooks/data_table.ipynb>data table notebook</a>'\n",
              "            + ' to learn more about interactive tables.';\n",
              "          element.innerHTML = '';\n",
              "          dataTable['output_type'] = 'display_data';\n",
              "          await google.colab.output.renderOutput(dataTable, element);\n",
              "          const docLink = document.createElement('div');\n",
              "          docLink.innerHTML = docLinkHtml;\n",
              "          element.appendChild(docLink);\n",
              "        }\n",
              "      </script>\n",
              "    </div>\n",
              "  </div>\n",
              "  "
            ]
          },
          "metadata": {},
          "execution_count": 3
        }
      ],
      "source": [
        "# Importing the   data\n",
        "\n",
        "\n",
        "fake = pd.read_csv('/content/drive/MyDrive/Colab Notebooks/Data/Fake.csv')\n",
        "true = pd.read_csv('/content/drive/MyDrive/Colab Notebooks/Data/True.csv')\n",
        "\n",
        "fake.head()"
      ]
    },
    {
      "cell_type": "code",
      "execution_count": null,
      "metadata": {
        "execution": {
          "iopub.execute_input": "2022-07-19T04:30:42.479120Z",
          "iopub.status.busy": "2022-07-19T04:30:42.478440Z",
          "iopub.status.idle": "2022-07-19T04:30:42.484906Z",
          "shell.execute_reply": "2022-07-19T04:30:42.483840Z",
          "shell.execute_reply.started": "2022-07-19T04:30:42.479066Z"
        },
        "colab": {
          "base_uri": "https://localhost:8080/"
        },
        "id": "mMcKFVBSmXh6",
        "outputId": "e2401db8-cd26-4bca-bb84-e71fa59d92dd"
      },
      "outputs": [
        {
          "output_type": "stream",
          "name": "stdout",
          "text": [
            "(23481, 4)\n",
            "(21417, 4)\n"
          ]
        }
      ],
      "source": [
        "# Shape of both dataset\n",
        "\n",
        "\n",
        "print(fake.shape)\n",
        "print(true.shape)"
      ]
    },
    {
      "cell_type": "markdown",
      "metadata": {
        "id": "cfgtmS6MmXh6"
      },
      "source": [
        "## Preparing the dataset"
      ]
    },
    {
      "cell_type": "code",
      "execution_count": null,
      "metadata": {
        "execution": {
          "iopub.execute_input": "2022-07-19T04:30:44.711153Z",
          "iopub.status.busy": "2022-07-19T04:30:44.710483Z",
          "iopub.status.idle": "2022-07-19T04:30:44.741165Z",
          "shell.execute_reply": "2022-07-19T04:30:44.740280Z",
          "shell.execute_reply.started": "2022-07-19T04:30:44.711096Z"
        },
        "id": "AQ703HjRmXh7"
      },
      "outputs": [],
      "source": [
        "# removing unnecessary colums\n",
        "\n",
        "true = true.drop(['subject', 'date', 'title'], axis=1)\n",
        "fake = fake.drop(['subject', 'date', 'title'], axis=1)\n",
        "\n",
        "# labelling the data\n",
        "\n",
        "true['label'] = 1\n",
        "fake['label'] = 0\n",
        "\n",
        "\n",
        "# concatenating both dataframes\n",
        "\n",
        "df = pd.concat([true, fake])\n",
        "\n",
        "# shuffling the data\n",
        "\n",
        "df = df.sample(frac = 1)\n",
        "\n",
        "# resetting the index values\n",
        "\n",
        "df.reset_index(inplace=True, drop=True)"
      ]
    },
    {
      "cell_type": "code",
      "execution_count": null,
      "metadata": {
        "execution": {
          "iopub.execute_input": "2022-07-19T04:30:44.922386Z",
          "iopub.status.busy": "2022-07-19T04:30:44.921806Z",
          "iopub.status.idle": "2022-07-19T04:30:44.935620Z",
          "shell.execute_reply": "2022-07-19T04:30:44.934658Z",
          "shell.execute_reply.started": "2022-07-19T04:30:44.922345Z"
        },
        "colab": {
          "base_uri": "https://localhost:8080/",
          "height": 224
        },
        "id": "qqf8tD2VmXh8",
        "outputId": "a45272ae-7a99-47b0-c763-a5e206981c84"
      },
      "outputs": [
        {
          "output_type": "stream",
          "name": "stdout",
          "text": [
            "(44898, 2)\n"
          ]
        },
        {
          "output_type": "execute_result",
          "data": {
            "text/plain": [
              "                                                text  label\n",
              "0  PRESIDENT TRUMP and FIRST LADY MELANIA TRUMP a...      0\n",
              "1  We mentioned in an article yesterday that the ...      0\n",
              "2  BEIRUT (Reuters) - The Syrian government deleg...      1\n",
              "3  YANGON/SHAMLAPUR, Bangladesh (Reuters) - Myanm...      1\n",
              "4  WASHINGTON (Reuters) - Divisions have emerged ...      1"
            ],
            "text/html": [
              "\n",
              "  <div id=\"df-984ff6cd-1082-457f-9be0-90962042527f\">\n",
              "    <div class=\"colab-df-container\">\n",
              "      <div>\n",
              "<style scoped>\n",
              "    .dataframe tbody tr th:only-of-type {\n",
              "        vertical-align: middle;\n",
              "    }\n",
              "\n",
              "    .dataframe tbody tr th {\n",
              "        vertical-align: top;\n",
              "    }\n",
              "\n",
              "    .dataframe thead th {\n",
              "        text-align: right;\n",
              "    }\n",
              "</style>\n",
              "<table border=\"1\" class=\"dataframe\">\n",
              "  <thead>\n",
              "    <tr style=\"text-align: right;\">\n",
              "      <th></th>\n",
              "      <th>text</th>\n",
              "      <th>label</th>\n",
              "    </tr>\n",
              "  </thead>\n",
              "  <tbody>\n",
              "    <tr>\n",
              "      <th>0</th>\n",
              "      <td>PRESIDENT TRUMP and FIRST LADY MELANIA TRUMP a...</td>\n",
              "      <td>0</td>\n",
              "    </tr>\n",
              "    <tr>\n",
              "      <th>1</th>\n",
              "      <td>We mentioned in an article yesterday that the ...</td>\n",
              "      <td>0</td>\n",
              "    </tr>\n",
              "    <tr>\n",
              "      <th>2</th>\n",
              "      <td>BEIRUT (Reuters) - The Syrian government deleg...</td>\n",
              "      <td>1</td>\n",
              "    </tr>\n",
              "    <tr>\n",
              "      <th>3</th>\n",
              "      <td>YANGON/SHAMLAPUR, Bangladesh (Reuters) - Myanm...</td>\n",
              "      <td>1</td>\n",
              "    </tr>\n",
              "    <tr>\n",
              "      <th>4</th>\n",
              "      <td>WASHINGTON (Reuters) - Divisions have emerged ...</td>\n",
              "      <td>1</td>\n",
              "    </tr>\n",
              "  </tbody>\n",
              "</table>\n",
              "</div>\n",
              "      <button class=\"colab-df-convert\" onclick=\"convertToInteractive('df-984ff6cd-1082-457f-9be0-90962042527f')\"\n",
              "              title=\"Convert this dataframe to an interactive table.\"\n",
              "              style=\"display:none;\">\n",
              "        \n",
              "  <svg xmlns=\"http://www.w3.org/2000/svg\" height=\"24px\"viewBox=\"0 0 24 24\"\n",
              "       width=\"24px\">\n",
              "    <path d=\"M0 0h24v24H0V0z\" fill=\"none\"/>\n",
              "    <path d=\"M18.56 5.44l.94 2.06.94-2.06 2.06-.94-2.06-.94-.94-2.06-.94 2.06-2.06.94zm-11 1L8.5 8.5l.94-2.06 2.06-.94-2.06-.94L8.5 2.5l-.94 2.06-2.06.94zm10 10l.94 2.06.94-2.06 2.06-.94-2.06-.94-.94-2.06-.94 2.06-2.06.94z\"/><path d=\"M17.41 7.96l-1.37-1.37c-.4-.4-.92-.59-1.43-.59-.52 0-1.04.2-1.43.59L10.3 9.45l-7.72 7.72c-.78.78-.78 2.05 0 2.83L4 21.41c.39.39.9.59 1.41.59.51 0 1.02-.2 1.41-.59l7.78-7.78 2.81-2.81c.8-.78.8-2.07 0-2.86zM5.41 20L4 18.59l7.72-7.72 1.47 1.35L5.41 20z\"/>\n",
              "  </svg>\n",
              "      </button>\n",
              "      \n",
              "  <style>\n",
              "    .colab-df-container {\n",
              "      display:flex;\n",
              "      flex-wrap:wrap;\n",
              "      gap: 12px;\n",
              "    }\n",
              "\n",
              "    .colab-df-convert {\n",
              "      background-color: #E8F0FE;\n",
              "      border: none;\n",
              "      border-radius: 50%;\n",
              "      cursor: pointer;\n",
              "      display: none;\n",
              "      fill: #1967D2;\n",
              "      height: 32px;\n",
              "      padding: 0 0 0 0;\n",
              "      width: 32px;\n",
              "    }\n",
              "\n",
              "    .colab-df-convert:hover {\n",
              "      background-color: #E2EBFA;\n",
              "      box-shadow: 0px 1px 2px rgba(60, 64, 67, 0.3), 0px 1px 3px 1px rgba(60, 64, 67, 0.15);\n",
              "      fill: #174EA6;\n",
              "    }\n",
              "\n",
              "    [theme=dark] .colab-df-convert {\n",
              "      background-color: #3B4455;\n",
              "      fill: #D2E3FC;\n",
              "    }\n",
              "\n",
              "    [theme=dark] .colab-df-convert:hover {\n",
              "      background-color: #434B5C;\n",
              "      box-shadow: 0px 1px 3px 1px rgba(0, 0, 0, 0.15);\n",
              "      filter: drop-shadow(0px 1px 2px rgba(0, 0, 0, 0.3));\n",
              "      fill: #FFFFFF;\n",
              "    }\n",
              "  </style>\n",
              "\n",
              "      <script>\n",
              "        const buttonEl =\n",
              "          document.querySelector('#df-984ff6cd-1082-457f-9be0-90962042527f button.colab-df-convert');\n",
              "        buttonEl.style.display =\n",
              "          google.colab.kernel.accessAllowed ? 'block' : 'none';\n",
              "\n",
              "        async function convertToInteractive(key) {\n",
              "          const element = document.querySelector('#df-984ff6cd-1082-457f-9be0-90962042527f');\n",
              "          const dataTable =\n",
              "            await google.colab.kernel.invokeFunction('convertToInteractive',\n",
              "                                                     [key], {});\n",
              "          if (!dataTable) return;\n",
              "\n",
              "          const docLinkHtml = 'Like what you see? Visit the ' +\n",
              "            '<a target=\"_blank\" href=https://colab.research.google.com/notebooks/data_table.ipynb>data table notebook</a>'\n",
              "            + ' to learn more about interactive tables.';\n",
              "          element.innerHTML = '';\n",
              "          dataTable['output_type'] = 'display_data';\n",
              "          await google.colab.output.renderOutput(dataTable, element);\n",
              "          const docLink = document.createElement('div');\n",
              "          docLink.innerHTML = docLinkHtml;\n",
              "          element.appendChild(docLink);\n",
              "        }\n",
              "      </script>\n",
              "    </div>\n",
              "  </div>\n",
              "  "
            ]
          },
          "metadata": {},
          "execution_count": 6
        }
      ],
      "source": [
        "print(df.shape)\n",
        "\n",
        "df.head()"
      ]
    },
    {
      "cell_type": "code",
      "execution_count": null,
      "metadata": {
        "execution": {
          "iopub.execute_input": "2022-07-19T04:30:45.327258Z",
          "iopub.status.busy": "2022-07-19T04:30:45.326952Z",
          "iopub.status.idle": "2022-07-19T04:30:45.344035Z",
          "shell.execute_reply": "2022-07-19T04:30:45.343073Z",
          "shell.execute_reply.started": "2022-07-19T04:30:45.327231Z"
        },
        "colab": {
          "base_uri": "https://localhost:8080/"
        },
        "id": "Jr2KSnLMmXh9",
        "outputId": "a672fc57-5bd5-44fc-8bd6-df9a203af462"
      },
      "outputs": [
        {
          "output_type": "execute_result",
          "data": {
            "text/plain": [
              "text     0\n",
              "label    0\n",
              "dtype: int64"
            ]
          },
          "metadata": {},
          "execution_count": 7
        }
      ],
      "source": [
        "# checking for null values\n",
        "\n",
        "df.isnull().sum()"
      ]
    },
    {
      "cell_type": "code",
      "execution_count": null,
      "metadata": {
        "execution": {
          "iopub.execute_input": "2022-07-19T04:30:45.949157Z",
          "iopub.status.busy": "2022-07-19T04:30:45.948474Z",
          "iopub.status.idle": "2022-07-19T04:30:45.960167Z",
          "shell.execute_reply": "2022-07-19T04:30:45.959088Z",
          "shell.execute_reply.started": "2022-07-19T04:30:45.949086Z"
        },
        "colab": {
          "base_uri": "https://localhost:8080/"
        },
        "id": "8eWwMZfGmXh-",
        "outputId": "ec0ea749-3b61-4429-c6cb-fc70c38cd0ab"
      },
      "outputs": [
        {
          "output_type": "stream",
          "name": "stdout",
          "text": [
            "(44898, 1)\n",
            "(44898,)\n"
          ]
        }
      ],
      "source": [
        "## Get the Independent Features\n",
        "\n",
        "X = df.drop('label',axis=1)\n",
        "\n",
        "## Get the Dependent features\n",
        "\n",
        "y = df['label']\n",
        "\n",
        "\n",
        "print(X.shape)\n",
        "print(y.shape)"
      ]
    },
    {
      "cell_type": "code",
      "execution_count": null,
      "metadata": {
        "execution": {
          "iopub.execute_input": "2022-07-19T04:30:46.976456Z",
          "iopub.status.busy": "2022-07-19T04:30:46.974418Z",
          "iopub.status.idle": "2022-07-19T04:30:53.366490Z",
          "shell.execute_reply": "2022-07-19T04:30:53.365452Z",
          "shell.execute_reply.started": "2022-07-19T04:30:46.976402Z"
        },
        "id": "nxzskEbYmXh_"
      },
      "outputs": [],
      "source": [
        "# Importing necessary libraries for embedding and training LSTM model\n",
        "\n",
        "\n",
        "import tensorflow as tf\n",
        "from tensorflow.keras.layers import Embedding\n",
        "from tensorflow.keras.preprocessing.sequence import pad_sequences\n",
        "from tensorflow.keras.models import Sequential\n",
        "from tensorflow.keras.preprocessing.text import one_hot\n",
        "from tensorflow.keras.layers import LSTM\n",
        "from tensorflow.keras.layers import Dense"
      ]
    },
    {
      "cell_type": "code",
      "execution_count": null,
      "metadata": {
        "execution": {
          "iopub.execute_input": "2022-07-19T04:30:53.369327Z",
          "iopub.status.busy": "2022-07-19T04:30:53.368635Z",
          "iopub.status.idle": "2022-07-19T04:30:53.386354Z",
          "shell.execute_reply": "2022-07-19T04:30:53.385456Z",
          "shell.execute_reply.started": "2022-07-19T04:30:53.369290Z"
        },
        "colab": {
          "base_uri": "https://localhost:8080/",
          "height": 206
        },
        "id": "kA0ynXKHmXh_",
        "outputId": "114c8624-8c8e-4a3f-9095-fd747d650422"
      },
      "outputs": [
        {
          "output_type": "execute_result",
          "data": {
            "text/plain": [
              "                                                text\n",
              "0  PRESIDENT TRUMP and FIRST LADY MELANIA TRUMP a...\n",
              "1  We mentioned in an article yesterday that the ...\n",
              "2  BEIRUT (Reuters) - The Syrian government deleg...\n",
              "3  YANGON/SHAMLAPUR, Bangladesh (Reuters) - Myanm...\n",
              "4  WASHINGTON (Reuters) - Divisions have emerged ..."
            ],
            "text/html": [
              "\n",
              "  <div id=\"df-0f82655c-9c70-4e08-b782-b36cc566bdfa\">\n",
              "    <div class=\"colab-df-container\">\n",
              "      <div>\n",
              "<style scoped>\n",
              "    .dataframe tbody tr th:only-of-type {\n",
              "        vertical-align: middle;\n",
              "    }\n",
              "\n",
              "    .dataframe tbody tr th {\n",
              "        vertical-align: top;\n",
              "    }\n",
              "\n",
              "    .dataframe thead th {\n",
              "        text-align: right;\n",
              "    }\n",
              "</style>\n",
              "<table border=\"1\" class=\"dataframe\">\n",
              "  <thead>\n",
              "    <tr style=\"text-align: right;\">\n",
              "      <th></th>\n",
              "      <th>text</th>\n",
              "    </tr>\n",
              "  </thead>\n",
              "  <tbody>\n",
              "    <tr>\n",
              "      <th>0</th>\n",
              "      <td>PRESIDENT TRUMP and FIRST LADY MELANIA TRUMP a...</td>\n",
              "    </tr>\n",
              "    <tr>\n",
              "      <th>1</th>\n",
              "      <td>We mentioned in an article yesterday that the ...</td>\n",
              "    </tr>\n",
              "    <tr>\n",
              "      <th>2</th>\n",
              "      <td>BEIRUT (Reuters) - The Syrian government deleg...</td>\n",
              "    </tr>\n",
              "    <tr>\n",
              "      <th>3</th>\n",
              "      <td>YANGON/SHAMLAPUR, Bangladesh (Reuters) - Myanm...</td>\n",
              "    </tr>\n",
              "    <tr>\n",
              "      <th>4</th>\n",
              "      <td>WASHINGTON (Reuters) - Divisions have emerged ...</td>\n",
              "    </tr>\n",
              "  </tbody>\n",
              "</table>\n",
              "</div>\n",
              "      <button class=\"colab-df-convert\" onclick=\"convertToInteractive('df-0f82655c-9c70-4e08-b782-b36cc566bdfa')\"\n",
              "              title=\"Convert this dataframe to an interactive table.\"\n",
              "              style=\"display:none;\">\n",
              "        \n",
              "  <svg xmlns=\"http://www.w3.org/2000/svg\" height=\"24px\"viewBox=\"0 0 24 24\"\n",
              "       width=\"24px\">\n",
              "    <path d=\"M0 0h24v24H0V0z\" fill=\"none\"/>\n",
              "    <path d=\"M18.56 5.44l.94 2.06.94-2.06 2.06-.94-2.06-.94-.94-2.06-.94 2.06-2.06.94zm-11 1L8.5 8.5l.94-2.06 2.06-.94-2.06-.94L8.5 2.5l-.94 2.06-2.06.94zm10 10l.94 2.06.94-2.06 2.06-.94-2.06-.94-.94-2.06-.94 2.06-2.06.94z\"/><path d=\"M17.41 7.96l-1.37-1.37c-.4-.4-.92-.59-1.43-.59-.52 0-1.04.2-1.43.59L10.3 9.45l-7.72 7.72c-.78.78-.78 2.05 0 2.83L4 21.41c.39.39.9.59 1.41.59.51 0 1.02-.2 1.41-.59l7.78-7.78 2.81-2.81c.8-.78.8-2.07 0-2.86zM5.41 20L4 18.59l7.72-7.72 1.47 1.35L5.41 20z\"/>\n",
              "  </svg>\n",
              "      </button>\n",
              "      \n",
              "  <style>\n",
              "    .colab-df-container {\n",
              "      display:flex;\n",
              "      flex-wrap:wrap;\n",
              "      gap: 12px;\n",
              "    }\n",
              "\n",
              "    .colab-df-convert {\n",
              "      background-color: #E8F0FE;\n",
              "      border: none;\n",
              "      border-radius: 50%;\n",
              "      cursor: pointer;\n",
              "      display: none;\n",
              "      fill: #1967D2;\n",
              "      height: 32px;\n",
              "      padding: 0 0 0 0;\n",
              "      width: 32px;\n",
              "    }\n",
              "\n",
              "    .colab-df-convert:hover {\n",
              "      background-color: #E2EBFA;\n",
              "      box-shadow: 0px 1px 2px rgba(60, 64, 67, 0.3), 0px 1px 3px 1px rgba(60, 64, 67, 0.15);\n",
              "      fill: #174EA6;\n",
              "    }\n",
              "\n",
              "    [theme=dark] .colab-df-convert {\n",
              "      background-color: #3B4455;\n",
              "      fill: #D2E3FC;\n",
              "    }\n",
              "\n",
              "    [theme=dark] .colab-df-convert:hover {\n",
              "      background-color: #434B5C;\n",
              "      box-shadow: 0px 1px 3px 1px rgba(0, 0, 0, 0.15);\n",
              "      filter: drop-shadow(0px 1px 2px rgba(0, 0, 0, 0.3));\n",
              "      fill: #FFFFFF;\n",
              "    }\n",
              "  </style>\n",
              "\n",
              "      <script>\n",
              "        const buttonEl =\n",
              "          document.querySelector('#df-0f82655c-9c70-4e08-b782-b36cc566bdfa button.colab-df-convert');\n",
              "        buttonEl.style.display =\n",
              "          google.colab.kernel.accessAllowed ? 'block' : 'none';\n",
              "\n",
              "        async function convertToInteractive(key) {\n",
              "          const element = document.querySelector('#df-0f82655c-9c70-4e08-b782-b36cc566bdfa');\n",
              "          const dataTable =\n",
              "            await google.colab.kernel.invokeFunction('convertToInteractive',\n",
              "                                                     [key], {});\n",
              "          if (!dataTable) return;\n",
              "\n",
              "          const docLinkHtml = 'Like what you see? Visit the ' +\n",
              "            '<a target=\"_blank\" href=https://colab.research.google.com/notebooks/data_table.ipynb>data table notebook</a>'\n",
              "            + ' to learn more about interactive tables.';\n",
              "          element.innerHTML = '';\n",
              "          dataTable['output_type'] = 'display_data';\n",
              "          await google.colab.output.renderOutput(dataTable, element);\n",
              "          const docLink = document.createElement('div');\n",
              "          docLink.innerHTML = docLinkHtml;\n",
              "          element.appendChild(docLink);\n",
              "        }\n",
              "      </script>\n",
              "    </div>\n",
              "  </div>\n",
              "  "
            ]
          },
          "metadata": {},
          "execution_count": 10
        }
      ],
      "source": [
        "messages = X.copy()\n",
        "messages.head()"
      ]
    },
    {
      "cell_type": "code",
      "execution_count": null,
      "metadata": {
        "execution": {
          "iopub.execute_input": "2022-07-19T04:35:09.538156Z",
          "iopub.status.busy": "2022-07-19T04:35:09.537771Z",
          "iopub.status.idle": "2022-07-19T04:35:12.689842Z",
          "shell.execute_reply": "2022-07-19T04:35:12.688767Z",
          "shell.execute_reply.started": "2022-07-19T04:35:09.538118Z"
        },
        "id": "7X75lSjCmXh_"
      },
      "outputs": [],
      "source": [
        "import re\n",
        "import spacy\n",
        "\n",
        "\n",
        "# importing stopwords from spacy\n",
        "\n",
        "nlp = spacy.load('en_core_web_sm')\n",
        "stop_words = nlp.Defaults.stop_words"
      ]
    },
    {
      "cell_type": "code",
      "execution_count": null,
      "metadata": {
        "execution": {
          "iopub.execute_input": "2022-07-19T04:35:12.692300Z",
          "iopub.status.busy": "2022-07-19T04:35:12.691919Z",
          "iopub.status.idle": "2022-07-19T04:35:12.702013Z",
          "shell.execute_reply": "2022-07-19T04:35:12.701032Z",
          "shell.execute_reply.started": "2022-07-19T04:35:12.692249Z"
        },
        "id": "4Dw6m5BDmXiA"
      },
      "outputs": [],
      "source": [
        "# creating a function to preprocess all text\n",
        "\n",
        "def preprocess(sentence):\n",
        "    # making all words in lower case\n",
        "    sentence = sentence.lower()\n",
        "    # removing URL\n",
        "    sentence = sentence.replace('https://', ' ')\n",
        "    # removing all character other than letters\n",
        "    sentence = re.sub('[^a-zA-Z]',' ',sentence)\n",
        "\n",
        "    sentence = \" \".join(sentence.split())\n",
        "    \n",
        "    # remove stop words\n",
        "    raw = []\n",
        "    for word in sentence.split():\n",
        "        if word in stop_words:\n",
        "            pass\n",
        "        else:\n",
        "            raw.append(word)\n",
        "    sentence = ' '.join(raw)\n",
        "    # lemmatization\n",
        "    sentence = ' '.join([i.lemma_ for i in nlp(sentence)])\n",
        "    \n",
        "    return sentence"
      ]
    },
    {
      "cell_type": "code",
      "execution_count": null,
      "metadata": {
        "execution": {
          "iopub.execute_input": "2022-07-19T04:35:12.704402Z",
          "iopub.status.busy": "2022-07-19T04:35:12.703544Z",
          "iopub.status.idle": "2022-07-19T04:35:12.721776Z",
          "shell.execute_reply": "2022-07-19T04:35:12.720839Z",
          "shell.execute_reply.started": "2022-07-19T04:35:12.704361Z"
        },
        "id": "s__ceMgJmXiA"
      },
      "outputs": [],
      "source": [
        "# creating the corpora\n",
        "\n",
        "corpus = [text for text in df['text']]"
      ]
    },
    {
      "cell_type": "code",
      "execution_count": null,
      "metadata": {
        "execution": {
          "iopub.execute_input": "2022-07-19T04:35:12.724487Z",
          "iopub.status.busy": "2022-07-19T04:35:12.724021Z",
          "iopub.status.idle": "2022-07-19T04:59:25.082829Z",
          "shell.execute_reply": "2022-07-19T04:59:25.081837Z",
          "shell.execute_reply.started": "2022-07-19T04:35:12.724453Z"
        },
        "id": "l2xLdUe1mXiB"
      },
      "outputs": [],
      "source": [
        "# preprocessing all the news texts\n",
        "for i in range(len(corpus)):\n",
        "    corpus[i] = preprocess(corpus[i])"
      ]
    },
    {
      "cell_type": "code",
      "execution_count": null,
      "metadata": {
        "execution": {
          "iopub.execute_input": "2022-07-19T05:02:07.837757Z",
          "iopub.status.busy": "2022-07-19T05:02:07.837024Z",
          "iopub.status.idle": "2022-07-19T05:02:07.845125Z",
          "shell.execute_reply": "2022-07-19T05:02:07.843972Z",
          "shell.execute_reply.started": "2022-07-19T05:02:07.837718Z"
        },
        "colab": {
          "base_uri": "https://localhost:8080/"
        },
        "id": "4mfQNh3pmXiB",
        "outputId": "50b2cf9e-9d46-4ee3-96f6-253a172cc13f"
      },
      "outputs": [
        {
          "output_type": "execute_result",
          "data": {
            "text/plain": [
              "list"
            ]
          },
          "metadata": {},
          "execution_count": 15
        }
      ],
      "source": [
        "type(corpus)"
      ]
    },
    {
      "cell_type": "code",
      "execution_count": null,
      "metadata": {
        "execution": {
          "iopub.execute_input": "2022-07-19T05:02:40.742621Z",
          "iopub.status.busy": "2022-07-19T05:02:40.741958Z",
          "iopub.status.idle": "2022-07-19T05:02:40.751045Z",
          "shell.execute_reply": "2022-07-19T05:02:40.749785Z",
          "shell.execute_reply.started": "2022-07-19T05:02:40.742581Z"
        },
        "colab": {
          "base_uri": "https://localhost:8080/"
        },
        "id": "uj-ZSXxJmXiB",
        "outputId": "56638af5-5867-4ff3-bea1-5c94251f365c"
      },
      "outputs": [
        {
          "output_type": "execute_result",
          "data": {
            "text/plain": [
              "44898"
            ]
          },
          "metadata": {},
          "execution_count": 16
        }
      ],
      "source": [
        "len(corpus)"
      ]
    },
    {
      "cell_type": "code",
      "execution_count": null,
      "metadata": {
        "execution": {
          "iopub.execute_input": "2022-07-19T05:03:46.277685Z",
          "iopub.status.busy": "2022-07-19T05:03:46.277349Z",
          "iopub.status.idle": "2022-07-19T05:03:55.520975Z",
          "shell.execute_reply": "2022-07-19T05:03:55.519913Z",
          "shell.execute_reply.started": "2022-07-19T05:03:46.277658Z"
        },
        "id": "8iJSBpYYmXiB"
      },
      "outputs": [],
      "source": [
        "# One-hot Encoding and Padding the data\n",
        "\n",
        "voc_size = 10000\n",
        "\n",
        "onehot_repr=[one_hot(words,voc_size)for words in corpus] \n",
        "onehot_repr"
      ]
    },
    {
      "cell_type": "code",
      "execution_count": null,
      "metadata": {
        "execution": {
          "iopub.execute_input": "2022-07-19T05:04:57.903826Z",
          "iopub.status.busy": "2022-07-19T05:04:57.903476Z",
          "iopub.status.idle": "2022-07-19T05:04:57.910468Z",
          "shell.execute_reply": "2022-07-19T05:04:57.909466Z",
          "shell.execute_reply.started": "2022-07-19T05:04:57.903799Z"
        },
        "colab": {
          "base_uri": "https://localhost:8080/",
          "height": 122
        },
        "id": "ARsalIyImXiC",
        "outputId": "e9fc3119-6c09-4b55-dd6a-50dd49990dee"
      },
      "outputs": [
        {
          "output_type": "execute_result",
          "data": {
            "text/plain": [
              "'mention article yesterday real objective recount effort probably find voter fraud strip trump electoral vote traditionally blue win state pa wi mi state process recount effort trump use electoral vote final tally republican majority congress vote allow trump use vote hope likely action throw trump s presidency question voter set illegitimate president mind american citizen good news possiblity recount state pennsylvania electoral vote look good hillary right jill stein s hillary clinton s effort recount presidential vote swing state appear sputter philadelphia stein presidential candidate raise million dollar file recount wisconsin process pennsylvania complicated candidate file recount instead court attempt prove widespread voter fraud s evidence point organize voter initiate recount effort stein s team go ask thousand volunteers pennsylvania mobilize voting division know precinct recount voter division sign file affidavit noon monday philadelphia city board election receive petition voting division philadelphia accord city commissioner al schmidt s spoken organizer expect file mean voting division philadelphia percent recount stein s effort stein need people philadelphia sign petition file recount mobilize people statewide recount go pennsylvania contend campaign target recount wisconsin pennsylvania michigan coordinate campaign hillary clinton lose states president elect donald trump green party candidate far raise nearly million spearhead recount wanda murren spokeswoman pennsylvania department state say statement monday afternoon state work gather information county progress certify election return say county certify election closing day window petition county level recount deadline voter file recount end day today official allegheny county say delay certify election result activist file petition seek recount billypenn'"
            ],
            "application/vnd.google.colaboratory.intrinsic+json": {
              "type": "string"
            }
          },
          "metadata": {},
          "execution_count": 18
        }
      ],
      "source": [
        "corpus[1]"
      ]
    },
    {
      "cell_type": "code",
      "execution_count": null,
      "metadata": {
        "execution": {
          "iopub.execute_input": "2022-07-19T05:05:00.460045Z",
          "iopub.status.busy": "2022-07-19T05:05:00.459385Z",
          "iopub.status.idle": "2022-07-19T05:05:00.471027Z",
          "shell.execute_reply": "2022-07-19T05:05:00.470056Z",
          "shell.execute_reply.started": "2022-07-19T05:05:00.460007Z"
        },
        "id": "Zw0cqWcEmXiC"
      },
      "outputs": [],
      "source": [
        "onehot_repr[1]"
      ]
    },
    {
      "cell_type": "code",
      "execution_count": null,
      "metadata": {
        "execution": {
          "iopub.execute_input": "2022-07-19T05:05:16.226066Z",
          "iopub.status.busy": "2022-07-19T05:05:16.225454Z",
          "iopub.status.idle": "2022-07-19T05:05:16.469850Z",
          "shell.execute_reply": "2022-07-19T05:05:16.468736Z",
          "shell.execute_reply.started": "2022-07-19T05:05:16.226031Z"
        },
        "colab": {
          "base_uri": "https://localhost:8080/"
        },
        "id": "6WuMMp1WmXiC",
        "outputId": "dc3e028a-9b90-4016-e71f-a3e5788e00c4"
      },
      "outputs": [
        {
          "output_type": "stream",
          "name": "stdout",
          "text": [
            "[[7950 5262 9152 ... 4270   13 7950]\n",
            " [2401 2422 4937 ... 2477 4937 8684]\n",
            " [7895 5518  205 ... 1082 8144 3070]\n",
            " ...\n",
            " [2459 1062 4228 ... 8381 5127 5684]\n",
            " [6320 8124 8817 ... 7376 7843 8695]\n",
            " [3632 4558 4337 ... 9272 3287 7180]]\n"
          ]
        }
      ],
      "source": [
        "sent_length = 20\n",
        "embedded_docs = pad_sequences(onehot_repr,padding='post',maxlen=sent_length)\n",
        "print(embedded_docs)"
      ]
    },
    {
      "cell_type": "markdown",
      "source": [
        "# (1) Training model with LSTM"
      ],
      "metadata": {
        "id": "kstT8XZQBUr9"
      }
    },
    {
      "cell_type": "code",
      "execution_count": null,
      "metadata": {
        "execution": {
          "iopub.execute_input": "2022-07-19T05:10:47.933089Z",
          "iopub.status.busy": "2022-07-19T05:10:47.932732Z",
          "iopub.status.idle": "2022-07-19T05:10:48.158835Z",
          "shell.execute_reply": "2022-07-19T05:10:48.157761Z",
          "shell.execute_reply.started": "2022-07-19T05:10:47.933059Z"
        },
        "colab": {
          "base_uri": "https://localhost:8080/"
        },
        "id": "BgfHwc4fmXiD",
        "outputId": "5a7d4d3f-80d9-4742-e839-3e58aa88f014"
      },
      "outputs": [
        {
          "output_type": "stream",
          "name": "stdout",
          "text": [
            "Model: \"sequential\"\n",
            "_________________________________________________________________\n",
            " Layer (type)                Output Shape              Param #   \n",
            "=================================================================\n",
            " embedding (Embedding)       (None, 20, 40)            400000    \n",
            "                                                                 \n",
            " lstm (LSTM)                 (None, 100)               56400     \n",
            "                                                                 \n",
            " dense (Dense)               (None, 1)                 101       \n",
            "                                                                 \n",
            "=================================================================\n",
            "Total params: 456,501\n",
            "Trainable params: 456,501\n",
            "Non-trainable params: 0\n",
            "_________________________________________________________________\n",
            "None\n"
          ]
        }
      ],
      "source": [
        "## Creating model\n",
        "embedding_vector_features=40 ##features representation\n",
        "model=Sequential()\n",
        "model.add(Embedding(voc_size,embedding_vector_features,input_length=sent_length))\n",
        "model.add(LSTM(100))\n",
        "model.add(Dense(1,activation='sigmoid'))\n",
        "model.compile(loss='binary_crossentropy',optimizer='adam',metrics=['accuracy'])\n",
        "print(model.summary())"
      ]
    },
    {
      "cell_type": "code",
      "source": [
        "len(embedded_docs),y.shape"
      ],
      "metadata": {
        "colab": {
          "base_uri": "https://localhost:8080/"
        },
        "id": "VsT9yeHl9pnb",
        "outputId": "2fea8852-fe6c-4d3e-f3ab-18a603de0fe3"
      },
      "execution_count": null,
      "outputs": [
        {
          "output_type": "execute_result",
          "data": {
            "text/plain": [
              "(44898, (44898,))"
            ]
          },
          "metadata": {},
          "execution_count": 22
        }
      ]
    },
    {
      "cell_type": "code",
      "execution_count": null,
      "metadata": {
        "execution": {
          "iopub.execute_input": "2022-07-19T05:09:16.737236Z",
          "iopub.status.busy": "2022-07-19T05:09:16.736865Z",
          "iopub.status.idle": "2022-07-19T05:09:16.744030Z",
          "shell.execute_reply": "2022-07-19T05:09:16.743031Z",
          "shell.execute_reply.started": "2022-07-19T05:09:16.737207Z"
        },
        "id": "Oj6r7Za9mXiC"
      },
      "outputs": [],
      "source": [
        "X_final = np.array(embedded_docs)\n",
        "y_final = np.array(y)"
      ]
    },
    {
      "cell_type": "code",
      "source": [
        "X_final.shape,y_final.shape"
      ],
      "metadata": {
        "colab": {
          "base_uri": "https://localhost:8080/"
        },
        "id": "6gnrT0h99pyA",
        "outputId": "d37882ca-e1e0-4a06-ad58-58e30a682245"
      },
      "execution_count": null,
      "outputs": [
        {
          "output_type": "execute_result",
          "data": {
            "text/plain": [
              "((44898, 20), (44898,))"
            ]
          },
          "metadata": {},
          "execution_count": 24
        }
      ]
    },
    {
      "cell_type": "code",
      "execution_count": null,
      "metadata": {
        "execution": {
          "iopub.execute_input": "2022-07-19T05:09:50.613643Z",
          "iopub.status.busy": "2022-07-19T05:09:50.613292Z",
          "iopub.status.idle": "2022-07-19T05:09:50.628396Z",
          "shell.execute_reply": "2022-07-19T05:09:50.627381Z",
          "shell.execute_reply.started": "2022-07-19T05:09:50.613615Z"
        },
        "id": "uTHT5AflmXiC"
      },
      "outputs": [],
      "source": [
        "# splitting data in to train and test set\n",
        "\n",
        "from sklearn.model_selection import train_test_split\n",
        "X_train, X_test, y_train, y_test = train_test_split(X_final, y_final, test_size=0.33, random_state=42)"
      ]
    },
    {
      "cell_type": "code",
      "source": [
        "print(X_test.shape)\n",
        "print(y_test.shape)"
      ],
      "metadata": {
        "colab": {
          "base_uri": "https://localhost:8080/"
        },
        "id": "gNH4i3mI1msi",
        "outputId": "0f9313db-1797-4355-a48f-4f14e1b299a4"
      },
      "execution_count": null,
      "outputs": [
        {
          "output_type": "stream",
          "name": "stdout",
          "text": [
            "(14817, 20)\n",
            "(14817,)\n"
          ]
        }
      ]
    },
    {
      "cell_type": "code",
      "execution_count": null,
      "metadata": {
        "execution": {
          "iopub.execute_input": "2022-07-19T05:10:54.523780Z",
          "iopub.status.busy": "2022-07-19T05:10:54.523343Z",
          "iopub.status.idle": "2022-07-19T05:11:28.247321Z",
          "shell.execute_reply": "2022-07-19T05:11:28.246293Z",
          "shell.execute_reply.started": "2022-07-19T05:10:54.523751Z"
        },
        "colab": {
          "base_uri": "https://localhost:8080/"
        },
        "id": "piSKNiDImXiD",
        "outputId": "be92e9af-1591-45cd-c61a-6d16b924e3a1"
      },
      "outputs": [
        {
          "output_type": "stream",
          "name": "stdout",
          "text": [
            "Epoch 1/10\n",
            "471/471 [==============================] - 11s 8ms/step - loss: 0.2221 - accuracy: 0.9058 - val_loss: 0.1536 - val_accuracy: 0.9393\n",
            "Epoch 2/10\n",
            "471/471 [==============================] - 3s 7ms/step - loss: 0.1004 - accuracy: 0.9627 - val_loss: 0.1393 - val_accuracy: 0.9470\n",
            "Epoch 3/10\n",
            "471/471 [==============================] - 3s 7ms/step - loss: 0.0660 - accuracy: 0.9768 - val_loss: 0.1442 - val_accuracy: 0.9484\n",
            "Epoch 4/10\n",
            "471/471 [==============================] - 3s 7ms/step - loss: 0.0421 - accuracy: 0.9863 - val_loss: 0.1690 - val_accuracy: 0.9468\n",
            "Epoch 5/10\n",
            "471/471 [==============================] - 3s 7ms/step - loss: 0.0258 - accuracy: 0.9918 - val_loss: 0.1907 - val_accuracy: 0.9473\n",
            "Epoch 6/10\n",
            "471/471 [==============================] - 3s 7ms/step - loss: 0.0171 - accuracy: 0.9942 - val_loss: 0.2150 - val_accuracy: 0.9476\n",
            "Epoch 7/10\n",
            "471/471 [==============================] - 3s 7ms/step - loss: 0.0125 - accuracy: 0.9965 - val_loss: 0.2478 - val_accuracy: 0.9427\n",
            "Epoch 8/10\n",
            "471/471 [==============================] - 3s 7ms/step - loss: 0.0072 - accuracy: 0.9983 - val_loss: 0.2756 - val_accuracy: 0.9467\n",
            "Epoch 9/10\n",
            "471/471 [==============================] - 3s 7ms/step - loss: 0.0068 - accuracy: 0.9982 - val_loss: 0.2852 - val_accuracy: 0.9491\n",
            "Epoch 10/10\n",
            "471/471 [==============================] - 3s 7ms/step - loss: 0.0077 - accuracy: 0.9977 - val_loss: 0.2513 - val_accuracy: 0.9484\n"
          ]
        },
        {
          "output_type": "execute_result",
          "data": {
            "text/plain": [
              "<keras.callbacks.History at 0x7fe62c9dad10>"
            ]
          },
          "metadata": {},
          "execution_count": 27
        }
      ],
      "source": [
        "# Training the model\n",
        "model.fit(X_train,y_train,validation_data=(X_test,y_test),epochs=10,batch_size=64)"
      ]
    },
    {
      "cell_type": "code",
      "source": [
        "print(\"Accuracy of the model on Training Data is - \" , model.evaluate(X_train,y_train)[1]*100 , \"%\")\n",
        "print(\"Accuracy of the model on Testing Data is - \" , model.evaluate(X_test,y_test)[1]*100 , \"%\")"
      ],
      "metadata": {
        "colab": {
          "base_uri": "https://localhost:8080/"
        },
        "id": "NGjlE3y-9RLK",
        "outputId": "80980600-f3a0-4349-f57a-528a45a5621b"
      },
      "execution_count": null,
      "outputs": [
        {
          "output_type": "stream",
          "name": "stdout",
          "text": [
            "941/941 [==============================] - 3s 3ms/step - loss: 0.0043 - accuracy: 0.9991\n",
            "Accuracy of the model on Training Data is -  99.91024136543274 %\n",
            "464/464 [==============================] - 1s 3ms/step - loss: 0.2513 - accuracy: 0.9484\n",
            "Accuracy of the model on Testing Data is -  94.8370099067688 %\n"
          ]
        }
      ]
    },
    {
      "cell_type": "code",
      "execution_count": null,
      "metadata": {
        "execution": {
          "iopub.execute_input": "2022-07-19T05:12:37.519260Z",
          "iopub.status.busy": "2022-07-19T05:12:37.518845Z",
          "iopub.status.idle": "2022-07-19T05:12:39.096145Z",
          "shell.execute_reply": "2022-07-19T05:12:39.095086Z",
          "shell.execute_reply.started": "2022-07-19T05:12:37.519227Z"
        },
        "id": "EL0tOtBhmXiD"
      },
      "outputs": [],
      "source": [
        "y_pred = model.predict(X_test)\n",
        "y_pred = np.where(y_pred > 0.6, 1,0)"
      ]
    },
    {
      "cell_type": "code",
      "execution_count": null,
      "metadata": {
        "execution": {
          "iopub.execute_input": "2022-07-19T05:12:50.956069Z",
          "iopub.status.busy": "2022-07-19T05:12:50.955689Z",
          "iopub.status.idle": "2022-07-19T05:12:50.991183Z",
          "shell.execute_reply": "2022-07-19T05:12:50.990161Z",
          "shell.execute_reply.started": "2022-07-19T05:12:50.956035Z"
        },
        "colab": {
          "base_uri": "https://localhost:8080/"
        },
        "id": "IIC69hMUmXiE",
        "outputId": "70df7de1-7fe7-4225-949c-82e2da920db8"
      },
      "outputs": [
        {
          "output_type": "stream",
          "name": "stdout",
          "text": [
            "              precision    recall  f1-score   support\n",
            "\n",
            "           0       0.95      0.95      0.95      7760\n",
            "           1       0.95      0.94      0.94      7057\n",
            "\n",
            "    accuracy                           0.95     14817\n",
            "   macro avg       0.95      0.95      0.95     14817\n",
            "weighted avg       0.95      0.95      0.95     14817\n",
            "\n"
          ]
        }
      ],
      "source": [
        "# printing classification report\n",
        "\n",
        "from sklearn.metrics import classification_report, f1_score\n",
        "\n",
        "\n",
        "print(classification_report(y_test,y_pred))"
      ]
    },
    {
      "cell_type": "markdown",
      "source": [
        "# (2) Training model with SVM"
      ],
      "metadata": {
        "id": "GhqQYytd_mnU"
      }
    },
    {
      "cell_type": "code",
      "source": [
        "from sklearn.svm import LinearSVC\n",
        "\n",
        "# Create the LinearSVC model with some regularization\n",
        "LSVC = LinearSVC(random_state=1, dual=False)\n",
        "\n",
        "# Fit the model\n",
        "LSVC.fit(X_train, y_train)"
      ],
      "metadata": {
        "colab": {
          "base_uri": "https://localhost:8080/"
        },
        "id": "gKzAMaYE_pw7",
        "outputId": "c7b277f7-c1ce-4908-ab31-acee00d344b5"
      },
      "execution_count": null,
      "outputs": [
        {
          "output_type": "execute_result",
          "data": {
            "text/plain": [
              "LinearSVC(dual=False, random_state=1)"
            ]
          },
          "metadata": {},
          "execution_count": 58
        }
      ]
    },
    {
      "cell_type": "code",
      "source": [
        "# Use the trained model to predict\n",
        "y_pred = LSVC.predict(X_test)"
      ],
      "metadata": {
        "id": "nYQERlDK_w_M"
      },
      "execution_count": null,
      "outputs": []
    },
    {
      "cell_type": "code",
      "source": [
        "# model accuracy\n",
        "\n",
        "\n",
        "print(f'Model train accuracy: {LSVC.score(X_train, y_train)*100:.3f}%')\n",
        "print(f'Model test accuracy: {LSVC.score(X_test, y_test)*100:.3f}%')"
      ],
      "metadata": {
        "colab": {
          "base_uri": "https://localhost:8080/"
        },
        "id": "eXxeN6T6_0Am",
        "outputId": "baf4ea29-7c20-4483-a72c-c362f3ebe150"
      },
      "execution_count": null,
      "outputs": [
        {
          "output_type": "stream",
          "name": "stdout",
          "text": [
            "Model train accuracy: 60.291%\n",
            "Model test accuracy: 59.506%\n"
          ]
        }
      ]
    },
    {
      "cell_type": "code",
      "source": [
        "y_pred_svm = LSVC.predict(X_test)"
      ],
      "metadata": {
        "id": "JTPHGdueAIbN"
      },
      "execution_count": null,
      "outputs": []
    },
    {
      "cell_type": "code",
      "source": [
        "# printing classification report\n",
        "print(classification_report(y_test,y_pred_svm))"
      ],
      "metadata": {
        "colab": {
          "base_uri": "https://localhost:8080/"
        },
        "id": "yhpuRv9Y_8U1",
        "outputId": "2ab819b1-9159-4488-e7fe-2057ef89e61d"
      },
      "execution_count": null,
      "outputs": [
        {
          "output_type": "stream",
          "name": "stdout",
          "text": [
            "              precision    recall  f1-score   support\n",
            "\n",
            "           0       0.60      0.65      0.63      7760\n",
            "           1       0.58      0.53      0.55      7057\n",
            "\n",
            "    accuracy                           0.60     14817\n",
            "   macro avg       0.59      0.59      0.59     14817\n",
            "weighted avg       0.59      0.60      0.59     14817\n",
            "\n"
          ]
        }
      ]
    },
    {
      "cell_type": "markdown",
      "source": [
        "# (3) Training model with Random Forest Classifier"
      ],
      "metadata": {
        "id": "pMrIEP_tA24i"
      }
    },
    {
      "cell_type": "code",
      "source": [
        "from sklearn.ensemble import RandomForestClassifier\n",
        "\n",
        "# Create the RandomForestClassifier model\n",
        "rfc = RandomForestClassifier(random_state=1)\n",
        "\n",
        "# Fit the model\n",
        "rfc.fit(X_train, y_train)"
      ],
      "metadata": {
        "colab": {
          "base_uri": "https://localhost:8080/"
        },
        "id": "lyhPQkJ4AubR",
        "outputId": "6b7e3262-bb8a-49a1-86ab-48b8365c4a41"
      },
      "execution_count": null,
      "outputs": [
        {
          "output_type": "execute_result",
          "data": {
            "text/plain": [
              "RandomForestClassifier(random_state=1)"
            ]
          },
          "metadata": {},
          "execution_count": 65
        }
      ]
    },
    {
      "cell_type": "code",
      "source": [
        "# Use the trained model to predict\n",
        "y_pred_rfc = rfc.predict(X_test)"
      ],
      "metadata": {
        "id": "refih_4jBAXA"
      },
      "execution_count": null,
      "outputs": []
    },
    {
      "cell_type": "code",
      "source": [
        "# model accuracy\n",
        "print(f'Model train accuracy: {rfc.score(X_train, y_train)*100:.3f}%')\n",
        "print(f'Model test accuracy: {rfc.score(X_test, y_test)*100:.3f}%')"
      ],
      "metadata": {
        "colab": {
          "base_uri": "https://localhost:8080/"
        },
        "id": "HpWaAOB1BAZ_",
        "outputId": "c0c72e1a-e487-4e11-a49f-21b2b83de6c6"
      },
      "execution_count": null,
      "outputs": [
        {
          "output_type": "stream",
          "name": "stdout",
          "text": [
            "Model train accuracy: 99.993%\n",
            "Model test accuracy: 88.081%\n"
          ]
        }
      ]
    },
    {
      "cell_type": "code",
      "source": [
        "# printing classification report\n",
        "print(classification_report(y_test,y_pred_rfc))"
      ],
      "metadata": {
        "colab": {
          "base_uri": "https://localhost:8080/"
        },
        "id": "714evwgbBL9k",
        "outputId": "287c8585-d5d5-430e-f531-222a1fcee279"
      },
      "execution_count": null,
      "outputs": [
        {
          "output_type": "stream",
          "name": "stdout",
          "text": [
            "              precision    recall  f1-score   support\n",
            "\n",
            "           0       0.93      0.84      0.88      7760\n",
            "           1       0.84      0.93      0.88      7057\n",
            "\n",
            "    accuracy                           0.88     14817\n",
            "   macro avg       0.88      0.88      0.88     14817\n",
            "weighted avg       0.89      0.88      0.88     14817\n",
            "\n"
          ]
        }
      ]
    },
    {
      "cell_type": "markdown",
      "source": [
        "**The analysis provides evidence that:**\n",
        "\n",
        "\n",
        "*   Considering the f1 scores, LSTM, SVM and Random Forest Classifier methods, LSTM produced the best results.\n",
        "\n",
        "*   In case of accuracy also, LSTM produced the best result on testing data (94.83%)\n",
        "\n",
        "\n"
      ],
      "metadata": {
        "id": "B-3ksYCVzOh2"
      }
    }
  ],
  "metadata": {
    "kernelspec": {
      "display_name": "Python 3 (ipykernel)",
      "language": "python",
      "name": "python3"
    },
    "language_info": {
      "codemirror_mode": {
        "name": "ipython",
        "version": 3
      },
      "file_extension": ".py",
      "mimetype": "text/x-python",
      "name": "python",
      "nbconvert_exporter": "python",
      "pygments_lexer": "ipython3",
      "version": "3.8.10"
    },
    "colab": {
      "name": "NLP_Task_(Part-2).ipynb",
      "provenance": [],
      "collapsed_sections": []
    },
    "accelerator": "GPU",
    "gpuClass": "standard"
  },
  "nbformat": 4,
  "nbformat_minor": 0
}